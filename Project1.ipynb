{
 "cells": [
  {
   "cell_type": "code",
   "execution_count": 1,
   "metadata": {
    "execution": {
     "iopub.execute_input": "2024-02-20T21:17:07.128860Z",
     "iopub.status.busy": "2024-02-20T21:17:07.127966Z",
     "iopub.status.idle": "2024-02-20T21:17:07.848739Z",
     "shell.execute_reply": "2024-02-20T21:17:07.848075Z"
    }
   },
   "outputs": [
    {
     "name": "stdout",
     "output_type": "stream",
     "text": [
      "[[10 26]\n",
      " [ 9 90]]\n"
     ]
    }
   ],
   "source": [
    "from sklearn.neighbors import KNeighborsClassifier\n",
    "from sklearn.pipeline import Pipeline\n",
    "from sklearn.preprocessing import StandardScaler\n",
    "from sklearn.model_selection import train_test_split\n",
    "from sklearn.impute import KNNImputer\n",
    "from sklearn.metrics import confusion_matrix\n",
    "\n",
    "import pandas as pd\n",
    "\n",
    "# Load dataset\n",
    "dataset = pd.read_csv(\"NHANES_data_train.csv\")\n",
    "MI_positive = dataset[dataset['MI'] == 1]\n",
    "MI_negitive = dataset[dataset['MI'] == 2]\n",
    "\n",
    "# Limit number of MI positive samples\n",
    "MI_negitive = MI_negitive.sample(frac=.100)\n",
    "dataset = pd.concat([MI_positive, MI_negitive])\n",
    "\n",
    "# Impute columns with nearest co-value\n",
    "dataset_for_imp = dataset.drop(columns=['ParticipantID']) # ignore the ID column\n",
    "imputed_data = pd.DataFrame(KNNImputer(n_neighbors=3).fit_transform(dataset_for_imp), columns=dataset_for_imp.columns)\n",
    "\n",
    "# Add some advanced metrics\n",
    "imputed_data['bloodPressure'] = imputed_data['Systolic']/imputed_data['Diastolic']\n",
    "imputed_data['kidneyAge'] = (1/imputed_data['kidneys_eGFR']) * imputed_data['Age']\n",
    "imputed_data['ageAge'] = imputed_data['Age']*imputed_data['Age']\n",
    "\n",
    "# Scale the data in the dataset, using values most relevent for prediction of MI\n",
    "X = imputed_data[['Income', 'Age', 'Diastolic', 'Systolic', 'Pulse', 'BMI', 'HDL', 'Trig', 'LDL', 'TCHOL', 'kidneys_eGFR', 'Diabetes', 'bloodPressure', 'kidneyAge', 'ageAge']]\n",
    "Y = imputed_data['MI']\n",
    "X_train, X_test, Y_train, Y_test = train_test_split(X,Y,stratify=Y, random_state=10)\n",
    "\n",
    "# Train the model\n",
    "clf = Pipeline(\n",
    "    steps=[(\"scaler\", StandardScaler()), \n",
    "           (\"knn\", KNeighborsClassifier(n_neighbors=11))]\n",
    ")\n",
    "clf.fit(X_train, Y_train)\n",
    "\n",
    "# Make prediction\n",
    "probabilities = clf.predict_proba(X_test)[:, 1] # for output\n",
    "y_pred = clf.predict(X_test) # for confusion matrix\n",
    "\n",
    "# cof mat\n",
    "conf_mat = confusion_matrix(Y_test, y_pred)\n",
    "print(conf_mat)\n",
    "\n",
    "# Get each sample's ID and probability, and write them to the output csv\n",
    "dataset.reset_index(drop=True, inplace=True) # reset index\n",
    "participant_ids = dataset.loc[X_test.index, 'ParticipantID']\n",
    "output_df = pd.DataFrame({'ParticipantID': participant_ids, 'Probability_MI_Correct': probabilities})\n",
    "output_df.to_csv('kNN_pred.csv', index=False)\n",
    "\n",
    "# Merge the dataset with prediction set for accuracy evaluation, and send it to the csv file\n",
    "orig_testing_data = pd.read_csv(\"NHANES_data_train.csv\")\n",
    "kNN_prediction = pd.read_csv(\"kNN_pred.csv\")\n",
    "merged_data = pd.merge(orig_testing_data, kNN_prediction, on='ParticipantID', how='inner')\n",
    "kNN_true_MI_Label = merged_data[['ParticipantID', 'MI']]\n",
    "kNN_true_MI_Label.to_csv('kNN_true_MI_Label.csv', index=False)\n"
   ]
  },
  {
   "cell_type": "code",
   "execution_count": 2,
   "metadata": {
    "execution": {
     "iopub.execute_input": "2024-02-20T21:17:07.882888Z",
     "iopub.status.busy": "2024-02-20T21:17:07.882604Z",
     "iopub.status.idle": "2024-02-20T21:17:07.919884Z",
     "shell.execute_reply": "2024-02-20T21:17:07.919148Z"
    }
   },
   "outputs": [
    {
     "name": "stdout",
     "output_type": "stream",
     "text": [
      "[[10 26]\n",
      " [ 9 90]]\n"
     ]
    }
   ],
   "source": [
    "from sklearn.linear_model import LogisticRegression\n",
    "\n",
    "# Train the model using logistic regression\n",
    "log_reg_model = Pipeline(\n",
    "    steps=[(\"scaler\", StandardScaler()), \n",
    "           (\"log_reg\", LogisticRegression())]\n",
    ")\n",
    "log_reg_model.fit(X_train, Y_train)\n",
    "\n",
    "# Make predictions using logistic regression\n",
    "reg_probabilities = log_reg_model.predict_proba(X_test)[:, 1]\n",
    "reg_y_pred = clf.predict(X_test) # for confusion matrix\n",
    "\n",
    "# cof mat\n",
    "conf_mat = confusion_matrix(Y_test, reg_y_pred)\n",
    "print(conf_mat)\n",
    "\n",
    "# Get each sample's ID and probability, and write them to the output csv\n",
    "dataset.reset_index(drop=True, inplace=True) # reset index\n",
    "participant_ids = dataset.loc[X_test.index, 'ParticipantID']\n",
    "output_df = pd.DataFrame({'ParticipantID': participant_ids, 'Probability_MI_Correct': reg_probabilities})\n",
    "output_df.to_csv('regression_pred.csv', index=False)\n",
    "\n",
    "# Merge the dataset with prediction set for accuracy evaluation, and send it to the csv file\n",
    "orig_testing_data = pd.read_csv(\"NHANES_data_train.csv\")\n",
    "regression_prediction = pd.read_csv(\"regression_pred.csv\")\n",
    "merged_data = pd.merge(orig_testing_data, regression_prediction, on='ParticipantID', how='inner')\n",
    "regression_true_MI_Label = merged_data[['ParticipantID', 'MI']]\n",
    "regression_true_MI_Label.to_csv('regression_true_MI_Label.csv', index=False)"
   ]
  }
 ],
 "metadata": {
  "language_info": {
   "codemirror_mode": {
    "name": "ipython",
    "version": 3
   },
   "file_extension": ".py",
   "mimetype": "text/x-python",
   "name": "python",
   "nbconvert_exporter": "python",
   "pygments_lexer": "ipython3",
   "version": "3.11.7"
  }
 },
 "nbformat": 4,
 "nbformat_minor": 2
}
