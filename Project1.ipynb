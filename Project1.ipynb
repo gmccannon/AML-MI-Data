{
 "cells": [
  {
   "cell_type": "code",
   "execution_count": 1,
   "metadata": {
    "execution": {
     "iopub.execute_input": "2024-02-20T20:09:57.437669Z",
     "iopub.status.busy": "2024-02-20T20:09:57.436733Z",
     "iopub.status.idle": "2024-02-20T20:09:58.708953Z",
     "shell.execute_reply": "2024-02-20T20:09:58.708279Z"
    }
   },
   "outputs": [
    {
     "name": "stdout",
     "output_type": "stream",
     "text": [
      " K value chosen: 8\n"
     ]
    }
   ],
   "source": [
    "from sklearn.neighbors import KNeighborsClassifier\n",
    "from sklearn.pipeline import Pipeline\n",
    "from sklearn.preprocessing import StandardScaler\n",
    "from sklearn.model_selection import train_test_split\n",
    "from sklearn.impute import KNNImputer\n",
    "import pandas as pd\n",
    "\n",
    "# Load dataset\n",
    "dataset = pd.read_csv(\"NHANES_data_train.csv\")\n",
    "MI_positive = dataset[dataset['MI'] == 1]\n",
    "MI_negitive = dataset[dataset['MI'] == 2]\n",
    "\n",
    "# Limit number of NoMI samples (145/3934 = .0368)\n",
    "MI_negitive = MI_negitive.sample(frac=.0368)\n",
    "dataset = pd.concat([MI_positive, MI_negitive])\n",
    "\n",
    "# Impute columns with nearest co-value\n",
    "dataset_for_imp = dataset.drop(columns=['ParticipantID']) # ignore the ID column\n",
    "imputed_data = pd.DataFrame(KNNImputer(n_neighbors=3).fit_transform(dataset_for_imp), columns=dataset_for_imp.columns)\n",
    "\n",
    "# Scale the data in the dataset, using values most relevent for prediction of MI\n",
    "X = imputed_data[['Age', 'Diastolic', 'Systolic', 'Pulse', 'BMI', 'HDL', 'Trig', 'LDL', 'TCHOL', 'kidneys_eGFR', 'Diabetes', 'CurrentSmoker']]\n",
    "Y = imputed_data['MI']\n",
    "X_train, X_test, Y_train, Y_test = train_test_split(X,Y,stratify=Y, random_state=10)\n",
    "\n",
    "# Find the best k value for the dataset\n",
    "max_accuracy = 0\n",
    "optimal_k = 0\n",
    "while max_accuracy < 0.8:\n",
    "    k_range = range(1, 20, )\n",
    "    scores = []\n",
    "    for k in k_range:\n",
    "        clf2 = Pipeline(\n",
    "            steps=[(\"scaler\", StandardScaler()), \\\n",
    "                   (\"knn\", KNeighborsClassifier(n_neighbors=k))]\n",
    "        )\n",
    "        clf2.fit(X_train, Y_train)\n",
    "        scores.append(clf2.score(X_test, Y_test))\n",
    "    \n",
    "    max_accuracy = max(scores)\n",
    "    if max_accuracy >= 0.8:\n",
    "        optimal_k = k_range[scores.index(max_accuracy)]\n",
    "        print(f\" K value chosen: {optimal_k}\")\n",
    "    else:\n",
    "        X_train, X_test, Y_train, Y_test = train_test_split(X, Y, stratify=Y, random_state=None, test_size=.15)\n",
    "\n",
    "# Train the model using the optimal k-value\n",
    "clf = Pipeline(\n",
    "    steps=[(\"scaler\", StandardScaler()), \n",
    "           (\"knn\", KNeighborsClassifier(n_neighbors=optimal_k))]\n",
    ")\n",
    "clf.fit(X_train, Y_train)\n",
    "\n",
    "# Make prediction\n",
    "probabilities = clf.predict_proba(X_test)[:, 1]\n",
    "\n",
    "# Get each sample's ID and probability, and write them to the output csv\n",
    "dataset.reset_index(drop=True, inplace=True) # reset index\n",
    "participant_ids = dataset.loc[X_test.index, 'ParticipantID']\n",
    "output_df = pd.DataFrame({'ParticipantID': participant_ids, 'Probability_MI_Correct': probabilities})\n",
    "output_df.to_csv('kNN_pred.csv', index=False)\n",
    "\n",
    "# Merge the dataset with prediction set for accuracy evaluation, and send it to the csv file\n",
    "orig_testing_data = pd.read_csv(\"NHANES_data_train.csv\")\n",
    "kNN_prediction = pd.read_csv(\"kNN_pred.csv\")\n",
    "merged_data = pd.merge(orig_testing_data, kNN_prediction, on='ParticipantID', how='inner')\n",
    "kNN_true_MI_Label = merged_data[['ParticipantID', 'MI']]\n",
    "kNN_true_MI_Label.to_csv('kNN_true_MI_Label.csv', index=False)\n"
   ]
  },
  {
   "cell_type": "code",
   "execution_count": 2,
   "metadata": {
    "execution": {
     "iopub.execute_input": "2024-02-20T20:09:58.742490Z",
     "iopub.status.busy": "2024-02-20T20:09:58.742224Z",
     "iopub.status.idle": "2024-02-20T20:09:58.768573Z",
     "shell.execute_reply": "2024-02-20T20:09:58.767736Z"
    }
   },
   "outputs": [],
   "source": [
    "from sklearn.linear_model import LogisticRegression\n",
    "\n",
    "# Train the model using logistic regression\n",
    "log_reg_model = Pipeline(\n",
    "    steps=[(\"scaler\", StandardScaler()), \n",
    "           (\"log_reg\", LogisticRegression())]\n",
    ")\n",
    "log_reg_model.fit(X_train, Y_train)\n",
    "\n",
    "# Make predictions using logistic regression\n",
    "reg_probabilities = log_reg_model.predict_proba(X_test)[:, 1]\n",
    "\n",
    "# Get each sample's ID and probability, and write them to the output csv\n",
    "dataset.reset_index(drop=True, inplace=True) # reset index\n",
    "participant_ids = dataset.loc[X_test.index, 'ParticipantID']\n",
    "output_df = pd.DataFrame({'ParticipantID': participant_ids, 'Probability_MI_Correct': reg_probabilities})\n",
    "output_df.to_csv('regression_pred.csv', index=False)\n",
    "\n",
    "# Merge the dataset with prediction set for accuracy evaluation, and send it to the csv file\n",
    "orig_testing_data = pd.read_csv(\"NHANES_data_train.csv\")\n",
    "regression_prediction = pd.read_csv(\"regression_pred.csv\")\n",
    "merged_data = pd.merge(orig_testing_data, regression_prediction, on='ParticipantID', how='inner')\n",
    "regression_true_MI_Label = merged_data[['ParticipantID', 'MI']]\n",
    "regression_true_MI_Label.to_csv('regression_true_MI_Label.csv', index=False)"
   ]
  }
 ],
 "metadata": {
  "language_info": {
   "codemirror_mode": {
    "name": "ipython",
    "version": 3
   },
   "file_extension": ".py",
   "mimetype": "text/x-python",
   "name": "python",
   "nbconvert_exporter": "python",
   "pygments_lexer": "ipython3",
   "version": "3.11.7"
  }
 },
 "nbformat": 4,
 "nbformat_minor": 2
}
