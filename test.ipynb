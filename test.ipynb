{
 "cells": [
  {
   "cell_type": "code",
   "execution_count": 1,
   "id": "c50b837d-dd8a-4e5d-89bf-9e5ca1148018",
   "metadata": {
    "execution": {
     "iopub.execute_input": "2024-02-01T01:06:02.972966Z",
     "iopub.status.busy": "2024-02-01T01:06:02.972378Z",
     "iopub.status.idle": "2024-02-01T01:06:03.676212Z",
     "shell.execute_reply": "2024-02-01T01:06:03.675458Z"
    }
   },
   "outputs": [
    {
     "name": "stdout",
     "output_type": "stream",
     "text": [
      "accuracy: 0.9548022598870056\n",
      "confusion matrix:\n",
      " [[  0  16]\n",
      " [  0 338]]\n"
     ]
    }
   ],
   "source": [
    "# run: jupyter nbconvert --to notebook --inplace --execute test.ipynb\n",
    "\n",
    "from sklearn.model_selection import train_test_split\n",
    "from sklearn.neighbors import KNeighborsClassifier\n",
    "from sklearn.pipeline import Pipeline\n",
    "from sklearn.preprocessing import StandardScaler\n",
    "import pandas as pd\n",
    "\n",
    "data_df = pd.read_csv(\"NHANES_data_train.csv\")\n",
    "data_df = data_df.dropna()\n",
    "\n",
    "X = data_df[['Income', 'Sex', 'Age', 'Race', 'Edu', 'Diastolic',\n",
    "       'Systolic', 'Pulse', 'BMI', 'HDL', 'Trig', 'LDL', 'TCHOL',\n",
    "       'kidneys_eGFR', 'Diabetes', 'CurrentSmoker', 'isActive']]\n",
    "y = data_df['MI']\n",
    "\n",
    "# split the dataset into random training and testing sets\n",
    "X_train, X_test, y_train, y_test = train_test_split(X, y, stratify=y, random_state=10)  # default .75/.25; try: random_state=1\n",
    "\n",
    "clf2 = Pipeline(\n",
    "    steps=[(\"scaler\", StandardScaler()), (\"knn\", KNeighborsClassifier(n_neighbors=5))]\n",
    ")\n",
    "\n",
    "# set model parameters from training set\n",
    "clf2.fit(X_train, y_train)\n",
    "\n",
    "# print the accuracy of the model after being fed the test set\n",
    "print(\"accuracy:\", clf2.score(X_test, y_test))\n",
    "from sklearn.metrics import confusion_matrix\n",
    "y_predicted = clf2.predict(X_test)\n",
    "print(\"confusion matrix:\\n\", confusion_matrix(y_test, y_predicted))\n",
    "\n"
   ]
  }
 ],
 "metadata": {
  "kernelspec": {
   "display_name": "Python 3 (ipykernel)",
   "language": "python",
   "name": "python3"
  },
  "language_info": {
   "codemirror_mode": {
    "name": "ipython",
    "version": 3
   },
   "file_extension": ".py",
   "mimetype": "text/x-python",
   "name": "python",
   "nbconvert_exporter": "python",
   "pygments_lexer": "ipython3",
   "version": "3.11.6"
  }
 },
 "nbformat": 4,
 "nbformat_minor": 5
}
