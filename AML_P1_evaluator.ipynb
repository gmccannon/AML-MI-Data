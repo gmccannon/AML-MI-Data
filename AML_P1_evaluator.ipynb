{
 "cells": [
  {
   "cell_type": "code",
   "execution_count": 1,
   "id": "9a5901aa",
   "metadata": {
    "execution": {
     "iopub.execute_input": "2024-02-21T03:16:05.344955Z",
     "iopub.status.busy": "2024-02-21T03:16:05.344339Z",
     "iopub.status.idle": "2024-02-21T03:16:05.348341Z",
     "shell.execute_reply": "2024-02-21T03:16:05.347769Z"
    }
   },
   "outputs": [],
   "source": [
    "# input files:\n",
    "# True MI labels (true_MI_Label.csv) and your prediction (kNN_pred.csv)\n",
    "# Make sure your file name is \"kNN_pred.csv\" for Part1."
   ]
  },
  {
   "cell_type": "code",
   "execution_count": 2,
   "id": "3ee7a090",
   "metadata": {
    "execution": {
     "iopub.execute_input": "2024-02-21T03:16:05.351167Z",
     "iopub.status.busy": "2024-02-21T03:16:05.350905Z",
     "iopub.status.idle": "2024-02-21T03:16:05.607617Z",
     "shell.execute_reply": "2024-02-21T03:16:05.606993Z"
    }
   },
   "outputs": [
    {
     "name": "stdout",
     "output_type": "stream",
     "text": [
      "kNN:\n",
      "accuracy (%):  96.47058823529412 \n",
      "KL_div_score:  0.02909793224570919\n"
     ]
    }
   ],
   "source": [
    "import numpy as np\n",
    "import pandas as pd\n",
    "\n",
    "# Kullback-Leibler (KL) divergence between the predicted probability and the observed target\n",
    "def KL_div(P, Q):\n",
    "    if len(P) != len(Q):\n",
    "        return 100\n",
    "    else:\n",
    "        p = np.array(P)+0.000001   # adding an epsilon to avoid log(0) \n",
    "        q = np.array(Q)+0.000001   # adding an epsilon to avoid log(0)    \n",
    "        KL = np.dot(p, np.log(p) - np.log(q))/p.sum()\n",
    "    return KL\n",
    "\n",
    "accuracy = 0\n",
    "KL_div_score = 100\n",
    "Pdf = pd.read_csv(\"kNN_true_MI_Label.csv\")\n",
    "Pdf.set_index('ParticipantID', inplace=True)\n",
    "Pdf['MI'] -= 1\n",
    "\n",
    "Qdf = pd.read_csv(\"kNN_pred.csv\")\n",
    "Qdf.set_index('ParticipantID', inplace=True)\n",
    "\n",
    "\n",
    "if Pdf.shape[0] == Qdf.shape[0]:\n",
    "    PQdf = pd.concat([Pdf, Qdf], axis = 1)\n",
    "    accuracy = (1 - np.sum(np.abs((PQdf.iloc[:,0] - (PQdf.iloc[:,1]>=0.5))))/Pdf.shape[0])*100\n",
    "    KL_div_score = KL_div(PQdf.iloc[:,0], PQdf.iloc[:,1])\n",
    "    \n",
    "print(\"kNN:\\naccuracy (%): \", accuracy, \"\\nKL_div_score: \", KL_div_score)"
   ]
  },
  {
   "cell_type": "code",
   "execution_count": 3,
   "id": "58c5ea95",
   "metadata": {
    "execution": {
     "iopub.execute_input": "2024-02-21T03:16:05.610152Z",
     "iopub.status.busy": "2024-02-21T03:16:05.609957Z",
     "iopub.status.idle": "2024-02-21T03:16:05.621246Z",
     "shell.execute_reply": "2024-02-21T03:16:05.620645Z"
    }
   },
   "outputs": [
    {
     "name": "stdout",
     "output_type": "stream",
     "text": [
      "Logistic Regression:\n",
      "accuracy (%):  96.47058823529412 \n",
      "KL_div_score:  0.03468051741112344\n"
     ]
    }
   ],
   "source": [
    "import numpy as np\n",
    "import pandas as pd\n",
    "\n",
    "# Kullback-Leibler (KL) divergence between the predicted probability and the observed target\n",
    "def KL_div(P, Q):\n",
    "    if len(P) != len(Q):\n",
    "        return 100\n",
    "    else:\n",
    "        p = np.array(P)+0.000001   # adding an epsilon to avoid log(0) \n",
    "        q = np.array(Q)+0.000001   # adding an epsilon to avoid log(0)    \n",
    "        KL = np.dot(p, np.log(p) - np.log(q))/p.sum()\n",
    "    return KL\n",
    "\n",
    "accuracy = 0\n",
    "KL_div_score = 100\n",
    "Pdf = pd.read_csv(\"regression_true_MI_Label.csv\")\n",
    "Pdf.set_index('ParticipantID', inplace=True)\n",
    "Pdf['MI'] -= 1\n",
    "\n",
    "Qdf = pd.read_csv(\"regression_pred.csv\")\n",
    "Qdf.set_index('ParticipantID', inplace=True)\n",
    "\n",
    "if Pdf.shape[0] == Qdf.shape[0]:\n",
    "    PQdf = pd.concat([Pdf, Qdf], axis = 1)\n",
    "    accuracy = (1 - np.sum(np.abs((PQdf.iloc[:,0] - (PQdf.iloc[:,1]>=0.5))))/Pdf.shape[0])*100\n",
    "    KL_div_score = KL_div(PQdf.iloc[:,0], PQdf.iloc[:,1])\n",
    "    \n",
    "print(\"Logistic Regression:\\naccuracy (%): \", accuracy, \"\\nKL_div_score: \", KL_div_score)"
   ]
  },
  {
   "cell_type": "code",
   "execution_count": null,
   "id": "b5ef83c5",
   "metadata": {},
   "outputs": [],
   "source": []
  }
 ],
 "metadata": {
  "kernelspec": {
   "display_name": "Python 3 (ipykernel)",
   "language": "python",
   "name": "python3"
  },
  "language_info": {
   "codemirror_mode": {
    "name": "ipython",
    "version": 3
   },
   "file_extension": ".py",
   "mimetype": "text/x-python",
   "name": "python",
   "nbconvert_exporter": "python",
   "pygments_lexer": "ipython3",
   "version": "3.11.7"
  }
 },
 "nbformat": 4,
 "nbformat_minor": 5
}
